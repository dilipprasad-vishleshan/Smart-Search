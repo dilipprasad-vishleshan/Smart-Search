{
 "cells": [
  {
   "cell_type": "code",
   "execution_count": 1,
   "id": "bdde087d-67ab-4609-aa5e-e8f1cffcbc13",
   "metadata": {},
   "outputs": [],
   "source": [
    "import numpy as np\n",
    "import pandas as pd\n",
    "from sklearn.model_selection import train_test_split\n",
    "from sklearn.preprocessing import LabelEncoder\n",
    "from sklearn.feature_extraction.text import TfidfVectorizer\n",
    "from sklearn.tree import DecisionTreeClassifier\n",
    "from sklearn.metrics import classification_report"
   ]
  },
  {
   "cell_type": "code",
   "execution_count": 2,
   "id": "ae3e2509-092b-4674-a3af-2385ebef0bf9",
   "metadata": {},
   "outputs": [
    {
     "data": {
      "text/html": [
       "<div>\n",
       "<style scoped>\n",
       "    .dataframe tbody tr th:only-of-type {\n",
       "        vertical-align: middle;\n",
       "    }\n",
       "\n",
       "    .dataframe tbody tr th {\n",
       "        vertical-align: top;\n",
       "    }\n",
       "\n",
       "    .dataframe thead th {\n",
       "        text-align: right;\n",
       "    }\n",
       "</style>\n",
       "<table border=\"1\" class=\"dataframe\">\n",
       "  <thead>\n",
       "    <tr style=\"text-align: right;\">\n",
       "      <th></th>\n",
       "      <th>search</th>\n",
       "      <th>vehicle</th>\n",
       "    </tr>\n",
       "  </thead>\n",
       "  <tbody>\n",
       "    <tr>\n",
       "      <th>0</th>\n",
       "      <td>buy school bus</td>\n",
       "      <td>Buses</td>\n",
       "    </tr>\n",
       "    <tr>\n",
       "      <th>1</th>\n",
       "      <td>tata star bus ultra</td>\n",
       "      <td>Buses</td>\n",
       "    </tr>\n",
       "    <tr>\n",
       "      <th>2</th>\n",
       "      <td>tata ultra t16</td>\n",
       "      <td>Buses</td>\n",
       "    </tr>\n",
       "    <tr>\n",
       "      <th>3</th>\n",
       "      <td>Bus</td>\n",
       "      <td>Buses</td>\n",
       "    </tr>\n",
       "    <tr>\n",
       "      <th>4</th>\n",
       "      <td>Truck</td>\n",
       "      <td>Trucks</td>\n",
       "    </tr>\n",
       "  </tbody>\n",
       "</table>\n",
       "</div>"
      ],
      "text/plain": [
       "                search vehicle\n",
       "0       buy school bus   Buses\n",
       "1  tata star bus ultra   Buses\n",
       "2       tata ultra t16   Buses\n",
       "3                  Bus   Buses\n",
       "4                Truck  Trucks"
      ]
     },
     "execution_count": 2,
     "metadata": {},
     "output_type": "execute_result"
    }
   ],
   "source": [
    "df = pd.read_csv(\"Smart_Search_keywords.csv\", header=0, names=['search', 'vehicle'])\n",
    "df.head()"
   ]
  },
  {
   "cell_type": "code",
   "execution_count": 3,
   "id": "9f9e12f9-833e-4546-a6c2-f24392d19e93",
   "metadata": {},
   "outputs": [
    {
     "name": "stdout",
     "output_type": "stream",
     "text": [
      "<class 'pandas.core.frame.DataFrame'>\n",
      "RangeIndex: 908 entries, 0 to 907\n",
      "Data columns (total 2 columns):\n",
      " #   Column   Non-Null Count  Dtype \n",
      "---  ------   --------------  ----- \n",
      " 0   search   908 non-null    object\n",
      " 1   vehicle  908 non-null    object\n",
      "dtypes: object(2)\n",
      "memory usage: 14.3+ KB\n"
     ]
    }
   ],
   "source": [
    "df.info()"
   ]
  },
  {
   "cell_type": "code",
   "execution_count": 4,
   "id": "bde96bb3-bdad-424b-92d6-60955255cbf4",
   "metadata": {},
   "outputs": [
    {
     "data": {
      "text/html": [
       "<div>\n",
       "<style scoped>\n",
       "    .dataframe tbody tr th:only-of-type {\n",
       "        vertical-align: middle;\n",
       "    }\n",
       "\n",
       "    .dataframe tbody tr th {\n",
       "        vertical-align: top;\n",
       "    }\n",
       "\n",
       "    .dataframe thead th {\n",
       "        text-align: right;\n",
       "    }\n",
       "</style>\n",
       "<table border=\"1\" class=\"dataframe\">\n",
       "  <thead>\n",
       "    <tr style=\"text-align: right;\">\n",
       "      <th></th>\n",
       "      <th>search</th>\n",
       "      <th>vehicle</th>\n",
       "    </tr>\n",
       "  </thead>\n",
       "  <tbody>\n",
       "    <tr>\n",
       "      <th>count</th>\n",
       "      <td>908</td>\n",
       "      <td>908</td>\n",
       "    </tr>\n",
       "    <tr>\n",
       "      <th>unique</th>\n",
       "      <td>843</td>\n",
       "      <td>4</td>\n",
       "    </tr>\n",
       "    <tr>\n",
       "      <th>top</th>\n",
       "      <td>tata magic</td>\n",
       "      <td>Trucks</td>\n",
       "    </tr>\n",
       "    <tr>\n",
       "      <th>freq</th>\n",
       "      <td>3</td>\n",
       "      <td>397</td>\n",
       "    </tr>\n",
       "  </tbody>\n",
       "</table>\n",
       "</div>"
      ],
      "text/plain": [
       "            search vehicle\n",
       "count          908     908\n",
       "unique         843       4\n",
       "top     tata magic  Trucks\n",
       "freq             3     397"
      ]
     },
     "execution_count": 4,
     "metadata": {},
     "output_type": "execute_result"
    }
   ],
   "source": [
    "df.describe()"
   ]
  },
  {
   "cell_type": "code",
   "execution_count": 5,
   "id": "b45f11a2-fb04-497a-ae5e-e99ef38acead",
   "metadata": {},
   "outputs": [],
   "source": [
    "# Seperating feature and target\n",
    "X = df['search']\n",
    "y = df['vehicle']"
   ]
  },
  {
   "cell_type": "code",
   "execution_count": 6,
   "id": "5d953ed9-871a-4e66-b161-39cf1b6a02a8",
   "metadata": {},
   "outputs": [],
   "source": [
    "le = LabelEncoder()\n",
    "y = le.fit_transform(y)"
   ]
  },
  {
   "cell_type": "code",
   "execution_count": 7,
   "id": "7d968158-72d8-4ef9-94d4-a17d616c4baf",
   "metadata": {},
   "outputs": [],
   "source": [
    "# split the data into train and test\n",
    "X_train, X_test, y_train, y_test = train_test_split(X, y, test_size=0.2, random_state=42)"
   ]
  },
  {
   "cell_type": "code",
   "execution_count": 8,
   "id": "61e03ae8-f970-4b69-9891-7e62c1e8735d",
   "metadata": {},
   "outputs": [],
   "source": [
    "tfidf = TfidfVectorizer(stop_words=\"english\")\n",
    "X_train_tf = tfidf.fit_transform(X_train)\n",
    "X_test_tf= tfidf.transform(X_test)"
   ]
  },
  {
   "cell_type": "code",
   "execution_count": 9,
   "id": "3332f731-d323-4e3e-82d8-b57f7e2ab2fd",
   "metadata": {},
   "outputs": [
    {
     "data": {
      "text/html": [
       "<style>#sk-container-id-1 {color: black;background-color: white;}#sk-container-id-1 pre{padding: 0;}#sk-container-id-1 div.sk-toggleable {background-color: white;}#sk-container-id-1 label.sk-toggleable__label {cursor: pointer;display: block;width: 100%;margin-bottom: 0;padding: 0.3em;box-sizing: border-box;text-align: center;}#sk-container-id-1 label.sk-toggleable__label-arrow:before {content: \"▸\";float: left;margin-right: 0.25em;color: #696969;}#sk-container-id-1 label.sk-toggleable__label-arrow:hover:before {color: black;}#sk-container-id-1 div.sk-estimator:hover label.sk-toggleable__label-arrow:before {color: black;}#sk-container-id-1 div.sk-toggleable__content {max-height: 0;max-width: 0;overflow: hidden;text-align: left;background-color: #f0f8ff;}#sk-container-id-1 div.sk-toggleable__content pre {margin: 0.2em;color: black;border-radius: 0.25em;background-color: #f0f8ff;}#sk-container-id-1 input.sk-toggleable__control:checked~div.sk-toggleable__content {max-height: 200px;max-width: 100%;overflow: auto;}#sk-container-id-1 input.sk-toggleable__control:checked~label.sk-toggleable__label-arrow:before {content: \"▾\";}#sk-container-id-1 div.sk-estimator input.sk-toggleable__control:checked~label.sk-toggleable__label {background-color: #d4ebff;}#sk-container-id-1 div.sk-label input.sk-toggleable__control:checked~label.sk-toggleable__label {background-color: #d4ebff;}#sk-container-id-1 input.sk-hidden--visually {border: 0;clip: rect(1px 1px 1px 1px);clip: rect(1px, 1px, 1px, 1px);height: 1px;margin: -1px;overflow: hidden;padding: 0;position: absolute;width: 1px;}#sk-container-id-1 div.sk-estimator {font-family: monospace;background-color: #f0f8ff;border: 1px dotted black;border-radius: 0.25em;box-sizing: border-box;margin-bottom: 0.5em;}#sk-container-id-1 div.sk-estimator:hover {background-color: #d4ebff;}#sk-container-id-1 div.sk-parallel-item::after {content: \"\";width: 100%;border-bottom: 1px solid gray;flex-grow: 1;}#sk-container-id-1 div.sk-label:hover label.sk-toggleable__label {background-color: #d4ebff;}#sk-container-id-1 div.sk-serial::before {content: \"\";position: absolute;border-left: 1px solid gray;box-sizing: border-box;top: 0;bottom: 0;left: 50%;z-index: 0;}#sk-container-id-1 div.sk-serial {display: flex;flex-direction: column;align-items: center;background-color: white;padding-right: 0.2em;padding-left: 0.2em;position: relative;}#sk-container-id-1 div.sk-item {position: relative;z-index: 1;}#sk-container-id-1 div.sk-parallel {display: flex;align-items: stretch;justify-content: center;background-color: white;position: relative;}#sk-container-id-1 div.sk-item::before, #sk-container-id-1 div.sk-parallel-item::before {content: \"\";position: absolute;border-left: 1px solid gray;box-sizing: border-box;top: 0;bottom: 0;left: 50%;z-index: -1;}#sk-container-id-1 div.sk-parallel-item {display: flex;flex-direction: column;z-index: 1;position: relative;background-color: white;}#sk-container-id-1 div.sk-parallel-item:first-child::after {align-self: flex-end;width: 50%;}#sk-container-id-1 div.sk-parallel-item:last-child::after {align-self: flex-start;width: 50%;}#sk-container-id-1 div.sk-parallel-item:only-child::after {width: 0;}#sk-container-id-1 div.sk-dashed-wrapped {border: 1px dashed gray;margin: 0 0.4em 0.5em 0.4em;box-sizing: border-box;padding-bottom: 0.4em;background-color: white;}#sk-container-id-1 div.sk-label label {font-family: monospace;font-weight: bold;display: inline-block;line-height: 1.2em;}#sk-container-id-1 div.sk-label-container {text-align: center;}#sk-container-id-1 div.sk-container {/* jupyter's `normalize.less` sets `[hidden] { display: none; }` but bootstrap.min.css set `[hidden] { display: none !important; }` so we also need the `!important` here to be able to override the default hidden behavior on the sphinx rendered scikit-learn.org. See: https://github.com/scikit-learn/scikit-learn/issues/21755 */display: inline-block !important;position: relative;}#sk-container-id-1 div.sk-text-repr-fallback {display: none;}</style><div id=\"sk-container-id-1\" class=\"sk-top-container\"><div class=\"sk-text-repr-fallback\"><pre>DecisionTreeClassifier()</pre><b>In a Jupyter environment, please rerun this cell to show the HTML representation or trust the notebook. <br />On GitHub, the HTML representation is unable to render, please try loading this page with nbviewer.org.</b></div><div class=\"sk-container\" hidden><div class=\"sk-item\"><div class=\"sk-estimator sk-toggleable\"><input class=\"sk-toggleable__control sk-hidden--visually\" id=\"sk-estimator-id-1\" type=\"checkbox\" checked><label for=\"sk-estimator-id-1\" class=\"sk-toggleable__label sk-toggleable__label-arrow\">DecisionTreeClassifier</label><div class=\"sk-toggleable__content\"><pre>DecisionTreeClassifier()</pre></div></div></div></div></div>"
      ],
      "text/plain": [
       "DecisionTreeClassifier()"
      ]
     },
     "execution_count": 9,
     "metadata": {},
     "output_type": "execute_result"
    }
   ],
   "source": [
    "model = DecisionTreeClassifier()\n",
    "model.fit(X_train_tf, y_train)"
   ]
  },
  {
   "cell_type": "code",
   "execution_count": 10,
   "id": "ff468548-66df-4946-ab81-6a8e367df44b",
   "metadata": {},
   "outputs": [],
   "source": [
    "y_pred = model.predict(X_test_tf)"
   ]
  },
  {
   "cell_type": "code",
   "execution_count": 11,
   "id": "775951ad-4966-4841-80ff-df0f2b3bec14",
   "metadata": {},
   "outputs": [
    {
     "name": "stdout",
     "output_type": "stream",
     "text": [
      "              precision    recall  f1-score   support\n",
      "\n",
      "           0       1.00      0.88      0.94        17\n",
      "           1       1.00      0.97      0.98        60\n",
      "           2       0.96      1.00      0.98        85\n",
      "           3       1.00      1.00      1.00        20\n",
      "\n",
      "    accuracy                           0.98       182\n",
      "   macro avg       0.99      0.96      0.97       182\n",
      "weighted avg       0.98      0.98      0.98       182\n",
      "\n"
     ]
    }
   ],
   "source": [
    "print(classification_report(y_test, y_pred))"
   ]
  },
  {
   "cell_type": "code",
   "execution_count": 12,
   "id": "94c30b3d-dd2c-4559-9394-67b28bd8a708",
   "metadata": {},
   "outputs": [
    {
     "data": {
      "text/plain": [
       "0.9986225895316805"
      ]
     },
     "execution_count": 12,
     "metadata": {},
     "output_type": "execute_result"
    }
   ],
   "source": [
    "model.score(X_train_tf, y_train)"
   ]
  },
  {
   "cell_type": "code",
   "execution_count": 13,
   "id": "a2491612-b65e-4428-9ed7-a7be63ba83ef",
   "metadata": {},
   "outputs": [
    {
     "data": {
      "text/plain": [
       "array(['Trucks', 'Vans', 'Trucks', 'Trucks', 'Trucks', 'Trucks', 'Trucks',\n",
       "       'SCV & Pickups', 'Trucks', 'Trucks', 'Trucks', 'Trucks',\n",
       "       'SCV & Pickups', 'SCV & Pickups', 'Trucks', 'Vans', 'Buses',\n",
       "       'Vans', 'SCV & Pickups', 'SCV & Pickups', 'Trucks',\n",
       "       'SCV & Pickups', 'SCV & Pickups', 'Vans', 'Vans', 'Trucks',\n",
       "       'Trucks', 'Trucks', 'Trucks', 'Trucks', 'SCV & Pickups', 'Vans',\n",
       "       'SCV & Pickups', 'SCV & Pickups', 'Trucks', 'Trucks', 'Trucks',\n",
       "       'Buses', 'Trucks', 'Vans', 'SCV & Pickups', 'Trucks',\n",
       "       'SCV & Pickups', 'SCV & Pickups', 'Trucks', 'SCV & Pickups',\n",
       "       'Trucks', 'SCV & Pickups', 'Trucks', 'Trucks', 'Buses', 'Trucks',\n",
       "       'SCV & Pickups', 'Buses', 'SCV & Pickups', 'SCV & Pickups',\n",
       "       'SCV & Pickups', 'SCV & Pickups', 'Buses', 'Trucks', 'Trucks',\n",
       "       'SCV & Pickups', 'Trucks', 'Trucks', 'SCV & Pickups',\n",
       "       'SCV & Pickups', 'Buses', 'Trucks', 'Vans', 'Trucks', 'Vans',\n",
       "       'Buses', 'Trucks', 'Buses', 'Trucks', 'Vans', 'Trucks',\n",
       "       'SCV & Pickups', 'Trucks', 'SCV & Pickups', 'Vans',\n",
       "       'SCV & Pickups', 'SCV & Pickups', 'Trucks', 'SCV & Pickups',\n",
       "       'Trucks', 'SCV & Pickups', 'Vans', 'SCV & Pickups', 'Trucks',\n",
       "       'SCV & Pickups', 'Trucks', 'SCV & Pickups', 'Trucks', 'Vans',\n",
       "       'SCV & Pickups', 'Trucks', 'SCV & Pickups', 'SCV & Pickups',\n",
       "       'Trucks', 'SCV & Pickups', 'Trucks', 'Trucks', 'Buses', 'Trucks',\n",
       "       'Trucks', 'Buses', 'Trucks', 'Trucks', 'Trucks', 'SCV & Pickups',\n",
       "       'Trucks', 'SCV & Pickups', 'Trucks', 'SCV & Pickups', 'Trucks',\n",
       "       'Trucks', 'Vans', 'Trucks', 'SCV & Pickups', 'Trucks',\n",
       "       'SCV & Pickups', 'Trucks', 'Trucks', 'Buses', 'SCV & Pickups',\n",
       "       'Trucks', 'SCV & Pickups', 'SCV & Pickups', 'SCV & Pickups',\n",
       "       'SCV & Pickups', 'Trucks', 'SCV & Pickups', 'Trucks', 'Trucks',\n",
       "       'SCV & Pickups', 'Trucks', 'Buses', 'Vans', 'Trucks', 'Vans',\n",
       "       'Trucks', 'Trucks', 'SCV & Pickups', 'Trucks', 'Trucks', 'Trucks',\n",
       "       'SCV & Pickups', 'Trucks', 'Trucks', 'Vans', 'Buses', 'Buses',\n",
       "       'Trucks', 'Vans', 'Trucks', 'Trucks', 'SCV & Pickups',\n",
       "       'SCV & Pickups', 'Trucks', 'SCV & Pickups', 'SCV & Pickups',\n",
       "       'Trucks', 'Vans', 'SCV & Pickups', 'Trucks', 'Trucks', 'Trucks',\n",
       "       'Trucks', 'SCV & Pickups', 'SCV & Pickups', 'Trucks', 'Trucks',\n",
       "       'Trucks', 'SCV & Pickups', 'Trucks', 'Trucks', 'Trucks', 'Trucks',\n",
       "       'Vans', 'Trucks', 'Buses'], dtype=object)"
      ]
     },
     "execution_count": 13,
     "metadata": {},
     "output_type": "execute_result"
    }
   ],
   "source": [
    "le.inverse_transform(y_pred)"
   ]
  },
  {
   "cell_type": "code",
   "execution_count": null,
   "id": "615c37a4-cfe3-43dd-b1a6-941a731c3903",
   "metadata": {},
   "outputs": [],
   "source": []
  }
 ],
 "metadata": {
  "kernelspec": {
   "display_name": "Python 3 (ipykernel)",
   "language": "python",
   "name": "python3"
  },
  "language_info": {
   "codemirror_mode": {
    "name": "ipython",
    "version": 3
   },
   "file_extension": ".py",
   "mimetype": "text/x-python",
   "name": "python",
   "nbconvert_exporter": "python",
   "pygments_lexer": "ipython3",
   "version": "3.11.7"
  }
 },
 "nbformat": 4,
 "nbformat_minor": 5
}
